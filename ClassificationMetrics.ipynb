{
 "cells": [
  {
   "cell_type": "markdown",
   "metadata": {},
   "source": [
    "# ClassificationMetrics\n",
    "\n",
    "in questo Notebook vogliamo mostrare come è possibile calcolare le varie metriche di classificazione\n",
    "\n",
    "* accuratezza\n",
    "* precision\n",
    "* recall\n",
    "* confusion matrix\n",
    "* ROC\n",
    "\n",
    "Nella prima parte si utilizza soltanto sklearn. nella seconda parte si usa OML con un GLM e si usano i metodi di sklearn per visualizzare la Confusion Matrix e calcolare PREC, RECALL e F1-score"
   ]
  },
  {
   "cell_type": "code",
   "execution_count": 52,
   "metadata": {},
   "outputs": [],
   "source": [
    "import warnings\n",
    "warnings.filterwarnings('ignore')"
   ]
  },
  {
   "cell_type": "code",
   "execution_count": 53,
   "metadata": {},
   "outputs": [],
   "source": [
    "from sklearn import datasets\n",
    "import pandas as pd\n",
    "from sklearn.model_selection import train_test_split\n",
    "import matplotlib.pyplot as plt"
   ]
  },
  {
   "cell_type": "code",
   "execution_count": 54,
   "metadata": {},
   "outputs": [],
   "source": [
    "# carico il dataset e creo i Pandas DataFrame\n",
    "bc = datasets.load_breast_cancer()\n",
    "\n",
    "bc_data = bc.data.astype(float)\n",
    "\n",
    "X = pd.DataFrame(bc_data, columns = bc.feature_names)\n",
    "y = pd.DataFrame(bc.target, columns = ['TARGET'])"
   ]
  },
  {
   "cell_type": "code",
   "execution_count": 55,
   "metadata": {},
   "outputs": [],
   "source": [
    "# split in train - test (uso i default)\n",
    "X_train, X_test, y_train, y_test = train_test_split(X, y, random_state=1)"
   ]
  },
  {
   "cell_type": "code",
   "execution_count": 56,
   "metadata": {},
   "outputs": [
    {
     "name": "stdout",
     "output_type": "stream",
     "text": [
      "Training set score: 0.962\n",
      "Test set score: 0.958\n"
     ]
    }
   ],
   "source": [
    "# applico un semplice modello di classificazione: Logistic Regression, uso i default\n",
    "from sklearn.linear_model import LogisticRegression\n",
    "from sklearn.preprocessing import MinMaxScaler\n",
    "\n",
    "scaler = MinMaxScaler()\n",
    "X_train_scaled = scaler.fit_transform(X_train)\n",
    "X_test_scaled = scaler.fit_transform(X_test)\n",
    "\n",
    "logreg = LogisticRegression().fit(X_train_scaled, y_train)\n",
    "\n",
    "print(\"Training set score: {:.3f}\".format(logreg.score(X_train_scaled, y_train)))\n",
    "print(\"Test set score: {:.3f}\".format(logreg.score(X_test_scaled, y_test)))"
   ]
  },
  {
   "cell_type": "markdown",
   "metadata": {},
   "source": [
    "## Su insieme di test: ACC = 0.96"
   ]
  },
  {
   "cell_type": "code",
   "execution_count": 57,
   "metadata": {},
   "outputs": [
    {
     "data": {
      "text/plain": [
       "(143,)"
      ]
     },
     "execution_count": 57,
     "metadata": {},
     "output_type": "execute_result"
    }
   ],
   "source": [
    "# le predizioni..\n",
    "pred_test = logreg.predict(X_test_scaled)\n",
    "pred_test.shape"
   ]
  },
  {
   "cell_type": "markdown",
   "metadata": {},
   "source": [
    "## Calcoliamo la confusion matrix (pag. 166, chap. 6)\n",
    "\n",
    "Attenzione: nella definizione si usa la convenzione: negativi,positivi e non viceversa"
   ]
  },
  {
   "cell_type": "code",
   "execution_count": 58,
   "metadata": {},
   "outputs": [],
   "source": [
    "from sklearn.metrics import confusion_matrix"
   ]
  },
  {
   "cell_type": "code",
   "execution_count": 59,
   "metadata": {},
   "outputs": [],
   "source": [
    "confmat = confusion_matrix(y_true=y_test,y_pred = pred_test)"
   ]
  },
  {
   "cell_type": "code",
   "execution_count": 60,
   "metadata": {},
   "outputs": [
    {
     "data": {
      "text/plain": [
       "array([[51,  4],\n",
       "       [ 2, 86]])"
      ]
     },
     "execution_count": 60,
     "metadata": {},
     "output_type": "execute_result"
    }
   ],
   "source": [
    "confmat"
   ]
  },
  {
   "cell_type": "markdown",
   "metadata": {},
   "source": [
    "abbiamo 2 FN e 4 FP"
   ]
  },
  {
   "cell_type": "markdown",
   "metadata": {},
   "source": [
    "Nota: usando scikit-learn LInearRegression la decision threshold di default è 0.5"
   ]
  },
  {
   "cell_type": "markdown",
   "metadata": {},
   "source": [
    "### Grafico della Confusion Matrix"
   ]
  },
  {
   "cell_type": "code",
   "execution_count": 61,
   "metadata": {},
   "outputs": [
    {
     "data": {
      "image/png": "[encoded data removed]",
      "text/plain": [
       "<matplotlib.figure.Figure at 0x7f74a763dba8>"
      ]
     },
     "metadata": {
      "needs_background": "light"
     },
     "output_type": "display_data"
    }
   ],
   "source": [
    "fig, ax = plt.subplots(figsize=(5,5))\n",
    "ax.matshow(confmat, cmap=plt.cm.Blues, alpha=0.3)\n",
    "for i in range(confmat.shape[0]):\n",
    "    for j in range(confmat.shape[1]):\n",
    "        ax.text(x=j, y=i,\n",
    "               s=confmat[i,j],\n",
    "               va='center', ha='center')\n",
    "plt.xlabel('Predicted')\n",
    "plt.ylabel('Actual')\n",
    "plt.show()"
   ]
  },
  {
   "cell_type": "markdown",
   "metadata": {},
   "source": [
    "## Calcolo di PRECISION e RECALL"
   ]
  },
  {
   "cell_type": "code",
   "execution_count": 62,
   "metadata": {
    "scrolled": true
   },
   "outputs": [
    {
     "name": "stdout",
     "output_type": "stream",
     "text": [
      "Accuracy: 0.958\n",
      "Precision: 0.956\n",
      "Recall: 0.977\n",
      "F1-score: 0.966\n"
     ]
    }
   ],
   "source": [
    "from sklearn.metrics import precision_score\n",
    "from sklearn.metrics import recall_score, f1_score\n",
    "\n",
    "print('Accuracy: %.3f' % logreg.score(X_test_scaled, y_test))\n",
    "print('Precision: %.3f' % precision_score(y_true=y_test, y_pred=pred_test))\n",
    "print('Recall: %.3f' % recall_score(y_true=y_test, y_pred=pred_test))\n",
    "print('F1-score: %.3f' % f1_score(y_true=y_test, y_pred=pred_test))"
   ]
  },
  {
   "cell_type": "markdown",
   "metadata": {},
   "source": [
    "## Usiamo OML sul dataset Breast Cancer\n",
    "per poter applicare il calcolo ad OML è sufficiente avere a disposizione i due set: y_test e pred_test"
   ]
  },
  {
   "cell_type": "code",
   "execution_count": 63,
   "metadata": {},
   "outputs": [
    {
     "data": {
      "text/plain": [
       "True"
      ]
     },
     "execution_count": 63,
     "metadata": {},
     "output_type": "execute_result"
    }
   ],
   "source": [
    "import warnings\n",
    "warnings.filterwarnings('ignore')\n",
    "\n",
    "import oml\n",
    "from oml import automl\n",
    "from oml import algo\n",
    "from oml.automl import FeatureSelection\n",
    "\n",
    "oml.connect(\"pyquser\",\"pyquser\",\n",
    "            '(DESCRIPTION=(ADDRESS=(PROTOCOL=TCP)(HOST=localhost)(PORT=1521))(CONNECT_DATA=(service_name=OAA1)))',\n",
    "           automl=True)\n",
    "oml.isconnected()"
   ]
  },
  {
   "cell_type": "code",
   "execution_count": 64,
   "metadata": {},
   "outputs": [
    {
     "name": "stdout",
     "output_type": "stream",
     "text": [
      "Shape: (569, 31)\n"
     ]
    }
   ],
   "source": [
    "# salvo il dataset in una tabella del DB\n",
    "try:\n",
    "    oml.drop(table='BREASTCANCER')\n",
    "except:\n",
    "    pass\n",
    "BREASTCANCER = oml.create(pd.concat([X, y], axis=1), table = 'BREASTCANCER')\n",
    "print(\"Shape:\",BREASTCANCER.shape)"
   ]
  },
  {
   "cell_type": "code",
   "execution_count": 65,
   "metadata": {},
   "outputs": [],
   "source": [
    "train_dat, test_dat = oml.sync(table = \"BREASTCANCER\").split()\n",
    "test_x, test_y = test_dat.drop('TARGET'), test_dat['TARGET']\n",
    "train_x = train_dat.drop('TARGET')\n",
    "train_y = train_dat['TARGET']"
   ]
  },
  {
   "cell_type": "code",
   "execution_count": 66,
   "metadata": {},
   "outputs": [
    {
     "name": "stdout",
     "output_type": "stream",
     "text": [
      "CPU times: user 196 ms, sys: 117 ms, total: 313 ms\n",
      "Wall time: 30 s\n"
     ]
    },
    {
     "data": {
      "text/plain": [
       "\n",
       "Algorithm Name: Generalized Linear Model\n",
       "\n",
       "Mining Function: CLASSIFICATION\n",
       "\n",
       "Target: TARGET\n",
       "\n",
       "Settings: \n",
       "                    setting name                  setting value\n",
       "0                 ADMM_CONSENSUS                             .1\n",
       "1                ADMM_ITERATIONS                             50\n",
       "2                 ADMM_TOLERANCE                          .0001\n",
       "3                      ALGO_NAME  ALGO_GENERALIZED_LINEAR_MODEL\n",
       "4          CLAS_WEIGHTS_BALANCED                            OFF\n",
       "5                GLMS_CONF_LEVEL                            .95\n",
       "6            GLMS_FTR_GENERATION    GLMS_FTR_GENERATION_DISABLE\n",
       "7             GLMS_FTR_SELECTION     GLMS_FTR_SELECTION_DISABLE\n",
       "8            GLMS_NUM_ITERATIONS                             31\n",
       "9          GLMS_RIDGE_REGRESSION         GLMS_RIDGE_REG_DISABLE\n",
       "10                   GLMS_SOLVER         GLMS_SOLVER_LBFGS_ADMM\n",
       "11      LBFGS_GRADIENT_TOLERANCE                     .000000001\n",
       "12           LBFGS_HISTORY_DEPTH                             20\n",
       "13           LBFGS_SCALE_HESSIAN     LBFGS_SCALE_HESSIAN_ENABLE\n",
       "14                  ODMS_DETAILS                   ODMS_DISABLE\n",
       "15  ODMS_MISSING_VALUE_TREATMENT        ODMS_MISSING_VALUE_AUTO\n",
       "16                 ODMS_SAMPLING          ODMS_SAMPLING_DISABLE\n",
       "17                     PREP_AUTO                             ON\n",
       "\n",
       "Attributes: \n",
       "mean radius\n",
       "mean texture\n",
       "mean perimeter\n",
       "mean area\n",
       "mean smoothness\n",
       "mean compactness\n",
       "mean concavity\n",
       "mean concave points\n",
       "mean symmetry\n",
       "mean fractal dimension\n",
       "radius error\n",
       "texture error\n",
       "perimeter error\n",
       "area error\n",
       "smoothness error\n",
       "compactness error\n",
       "concavity error\n",
       "concave points error\n",
       "symmetry error\n",
       "fractal dimension error\n",
       "worst radius\n",
       "worst texture\n",
       "worst perimeter\n",
       "worst area\n",
       "worst smoothness\n",
       "worst compactness\n",
       "worst concavity\n",
       "worst concave points\n",
       "worst symmetry\n",
       "worst fractal dimension\n",
       "\n",
       "Partition: NO\n"
      ]
     },
     "execution_count": 66,
     "metadata": {},
     "output_type": "execute_result"
    }
   ],
   "source": [
    "from oml.automl import ModelTuning\n",
    "\n",
    "at = ModelTuning(mining_function = 'classification', parallel=4)\n",
    "\n",
    "%time results = at.run('glm', train_x, train_y, score_metric='accuracy')\n",
    "\n",
    "tuned_model = results['best_model']\n",
    "tuned_model"
   ]
  },
  {
   "cell_type": "code",
   "execution_count": 67,
   "metadata": {},
   "outputs": [],
   "source": [
    "pred_y = tuned_model.predict(test_x)"
   ]
  },
  {
   "cell_type": "code",
   "execution_count": 68,
   "metadata": {},
   "outputs": [],
   "source": [
    "test_y_df = test_y.pull()\n",
    "pred_y_df = pred_y.pull()"
   ]
  },
  {
   "cell_type": "code",
   "execution_count": 69,
   "metadata": {},
   "outputs": [
    {
     "name": "stdout",
     "output_type": "stream",
     "text": [
      "Accuracy: 0.959\n",
      "Precision: 0.982\n",
      "Recall: 0.956\n",
      "F1-score: 0.969\n"
     ]
    }
   ],
   "source": [
    "print('Accuracy: %.3f' % tuned_model.score(test_x, test_y))\n",
    "print('Precision: %.3f' % precision_score(y_true=test_y_df, y_pred=pred_y_df))\n",
    "print('Recall: %.3f' % recall_score(y_true=test_y_df, y_pred=pred_y_df))\n",
    "print('F1-score: %.3f' % f1_score(y_true=test_y_df, y_pred=pred_y_df))"
   ]
  },
  {
   "cell_type": "code",
   "execution_count": 71,
   "metadata": {},
   "outputs": [],
   "source": [
    "confmat = confusion_matrix(y_true=test_y_df, y_pred = pred_y_df)"
   ]
  },
  {
   "cell_type": "code",
   "execution_count": 72,
   "metadata": {},
   "outputs": [
    {
     "data": {
      "image/png": "[encoded data removed]",
      "text/plain": [
       "<matplotlib.figure.Figure at 0x7f74a7b35c88>"
      ]
     },
     "metadata": {
      "needs_background": "light"
     },
     "output_type": "display_data"
    }
   ],
   "source": [
    "fig, ax = plt.subplots(figsize=(5,5))\n",
    "ax.matshow(confmat, cmap=plt.cm.Blues, alpha=0.3)\n",
    "for i in range(confmat.shape[0]):\n",
    "    for j in range(confmat.shape[1]):\n",
    "        ax.text(x=j, y=i,\n",
    "               s=confmat[i,j],\n",
    "               va='center', ha='center')\n",
    "plt.xlabel('Predicted')\n",
    "plt.ylabel('Actual')\n",
    "plt.show()"
   ]
  },
  {
   "cell_type": "markdown",
   "metadata": {},
   "source": [
    "# Proviamo con SVM_gaussian"
   ]
  },
  {
   "cell_type": "code",
   "execution_count": 81,
   "metadata": {},
   "outputs": [],
   "source": [
    "# rileggo i dati dal DB (se avessi chiuso la session)\n",
    "train_dat, test_dat = oml.sync(table = \"BREASTCANCER\").split()\n",
    "test_x, test_y = test_dat.drop('TARGET'), test_dat['TARGET']\n",
    "train_x = train_dat.drop('TARGET')\n",
    "train_y = train_dat['TARGET']"
   ]
  },
  {
   "cell_type": "code",
   "execution_count": 82,
   "metadata": {},
   "outputs": [
    {
     "name": "stdout",
     "output_type": "stream",
     "text": [
      "CPU times: user 254 ms, sys: 49 ms, total: 303 ms\n",
      "Wall time: 31.4 s\n"
     ]
    },
    {
     "data": {
      "text/plain": [
       "\n",
       "Algorithm Name: Support Vector Machine\n",
       "\n",
       "Mining Function: CLASSIFICATION\n",
       "\n",
       "Target: TARGET\n",
       "\n",
       "Settings: \n",
       "                    setting name                 setting value\n",
       "0                      ALGO_NAME  ALGO_SUPPORT_VECTOR_MACHINES\n",
       "1          CLAS_WEIGHTS_BALANCED                           OFF\n",
       "2                   ODMS_DETAILS                  ODMS_DISABLE\n",
       "3   ODMS_MISSING_VALUE_TREATMENT       ODMS_MISSING_VALUE_AUTO\n",
       "4                  ODMS_SAMPLING         ODMS_SAMPLING_DISABLE\n",
       "5                      PREP_AUTO                            ON\n",
       "6         SVMS_COMPLEXITY_FACTOR                            10\n",
       "7            SVMS_CONV_TOLERANCE                         .0001\n",
       "8           SVMS_KERNEL_FUNCTION                 SVMS_GAUSSIAN\n",
       "9                SVMS_NUM_PIVOTS                           200\n",
       "10                  SVMS_STD_DEV                          10.7\n",
       "\n",
       "Attributes: \n",
       "mean radius\n",
       "mean texture\n",
       "mean perimeter\n",
       "mean area\n",
       "mean smoothness\n",
       "mean compactness\n",
       "mean concavity\n",
       "mean concave points\n",
       "mean symmetry\n",
       "mean fractal dimension\n",
       "radius error\n",
       "texture error\n",
       "perimeter error\n",
       "area error\n",
       "smoothness error\n",
       "compactness error\n",
       "concavity error\n",
       "concave points error\n",
       "symmetry error\n",
       "fractal dimension error\n",
       "worst radius\n",
       "worst texture\n",
       "worst perimeter\n",
       "worst area\n",
       "worst smoothness\n",
       "worst compactness\n",
       "worst concavity\n",
       "worst concave points\n",
       "worst symmetry\n",
       "worst fractal dimension\n",
       "\n",
       "Partition: NO\n"
      ]
     },
     "execution_count": 82,
     "metadata": {},
     "output_type": "execute_result"
    }
   ],
   "source": [
    "from oml.automl import ModelTuning\n",
    "\n",
    "at = ModelTuning(mining_function = 'classification', parallel=4)\n",
    "\n",
    "%time results = at.run('svm_gaussian', train_x, train_y, score_metric='accuracy')\n",
    "\n",
    "tuned_model = results['best_model']\n",
    "tuned_model"
   ]
  },
  {
   "cell_type": "code",
   "execution_count": 83,
   "metadata": {},
   "outputs": [],
   "source": [
    "pred_y = tuned_model.predict(test_x)"
   ]
  },
  {
   "cell_type": "code",
   "execution_count": 84,
   "metadata": {},
   "outputs": [],
   "source": [
    "test_y_df = test_y.pull()\n",
    "pred_y_df = pred_y.pull()"
   ]
  },
  {
   "cell_type": "code",
   "execution_count": 85,
   "metadata": {},
   "outputs": [
    {
     "name": "stdout",
     "output_type": "stream",
     "text": [
      "Accuracy: 0.988\n",
      "Precision: 0.991\n",
      "Recall: 0.991\n",
      "F1-score: 0.991\n"
     ]
    }
   ],
   "source": [
    "print('Accuracy: %.3f' % tuned_model.score(test_x, test_y))\n",
    "print('Precision: %.3f' % precision_score(y_true=test_y_df, y_pred=pred_y_df))\n",
    "print('Recall: %.3f' % recall_score(y_true=test_y_df, y_pred=pred_y_df))\n",
    "print('F1-score: %.3f' % f1_score(y_true=test_y_df, y_pred=pred_y_df))"
   ]
  },
  {
   "cell_type": "code",
   "execution_count": 86,
   "metadata": {},
   "outputs": [],
   "source": [
    "confmat = confusion_matrix(y_true=test_y_df, y_pred = pred_y_df)"
   ]
  },
  {
   "cell_type": "code",
   "execution_count": 87,
   "metadata": {},
   "outputs": [
    {
     "data": {
      "image/png": "[encoded data removed]",
      "text/plain": [
       "<matplotlib.figure.Figure at 0x7f74c50e74a8>"
      ]
     },
     "metadata": {
      "needs_background": "light"
     },
     "output_type": "display_data"
    }
   ],
   "source": [
    "fig, ax = plt.subplots(figsize=(5,5))\n",
    "ax.matshow(confmat, cmap=plt.cm.Blues, alpha=0.3)\n",
    "for i in range(confmat.shape[0]):\n",
    "    for j in range(confmat.shape[1]):\n",
    "        ax.text(x=j, y=i,\n",
    "               s=confmat[i,j],\n",
    "               va='center', ha='center')\n",
    "plt.xlabel('Predicted')\n",
    "plt.ylabel('Actual')\n",
    "plt.show()"
   ]
  },
  {
   "cell_type": "code",
   "execution_count": null,
   "metadata": {},
   "outputs": [],
   "source": []
  }
 ],
 "metadata": {
  "kernelspec": {
   "display_name": "Python 3",
   "language": "python",
   "name": "python3"
  },
  "language_info": {
   "codemirror_mode": {
    "name": "ipython",
    "version": 3
   },
   "file_extension": ".py",
   "mimetype": "text/x-python",
   "name": "python",
   "nbconvert_exporter": "python",
   "pygments_lexer": "ipython3",
   "version": "3.5.2"
  }
 },
 "nbformat": 4,
 "nbformat_minor": 2
}
